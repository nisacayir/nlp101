{
  "metadata": {
    "kernelspec": {
      "name": "python",
      "display_name": "Python (Pyodide)",
      "language": "python"
    },
    "language_info": {
      "codemirror_mode": {
        "name": "python",
        "version": 3
      },
      "file_extension": ".py",
      "mimetype": "text/x-python",
      "name": "python",
      "nbconvert_exporter": "python",
      "pygments_lexer": "ipython3",
      "version": "3.8"
    }
  },
  "nbformat_minor": 4,
  "nbformat": 4,
  "cells": [
    {
      "cell_type": "markdown",
      "source": "# Lemmatization: Kelime Köklerine İndirgeme",
      "metadata": {
        "tags": [],
        "editable": true,
        "slideshow": {
          "slide_type": ""
        }
      }
    },
    {
      "cell_type": "markdown",
      "source": "Lemmatization, doğal dil işleme (NLP) süreçlerinde kullanılan ve kelimelerin köklerine (lemma) indirgenmesini sağlayan bir tekniktir. Stemming'e benzer bir amaç taşır, ancak lemmatization, kelimeleri dilbilgisel kurallara uygun şekilde analiz ederek daha doğru ve anlamlı sonuçlar üretir. Bu yöntem, özellikle metin analizi, metin sınıflandırma ve bilgi çıkarımı gibi alanlarda sıkça kullanılır.",
      "metadata": {}
    },
    {
      "cell_type": "markdown",
      "source": "## Lemmatization ve Stemming Arasındaki Farklar\nDilbilgisel Analiz:\n\nStemming: Kelimelerin sonundaki ekleri keserek kök haline getirir. Ancak bu işlem dilbilgisel kuralları dikkate almaz, bu nedenle bazen anlamsız kökler ortaya çıkabilir.\n\nLemmatization: Kelimeleri dilbilgisel olarak analiz eder ve anlamlı kökler üretir. Örneğin, \"koşuyordum\" kelimesinin lemması \"koşmak\"tır.\n\nDoğruluk:\n\nLemmatization, stemming'e göre daha doğru sonuçlar verir çünkü kelimelerin anlamını korur.\n\nStemming ise daha hızlıdır ancak bazen yanlış kökler üretebilir.\n\nKarmaşıklık:\n\nLemmatization, stemming'e göre daha karmaşık bir süreçtir ve genellikle daha fazla hesaplama kaynağı gerektirir.",
      "metadata": {}
    },
    {
      "cell_type": "markdown",
      "source": "## Lemmatization'ın Avantajları\n1 - Anlamın Korunması:\nLemmatization, kelimelerin köklerine indirgenirken anlamlarını korur. Örneğin, \"koşuyordum\", \"koşuyoruz\" ve \"koşacak\" kelimelerinin lemması \"koşmak\"tır. Bu, metin analizi sırasında kelimelerin temel anlamını koruyarak daha tutarlı sonuçlar elde etmeyi sağlar.\n\n2 - Standartlaştırma:\nMetinlerdeki kelime çeşitliliğini azaltarak, algoritmaların daha az ve daha anlamlı veri üzerinde çalışmasını sağlar. Bu, modelin eğitim süresini ve karmaşıklığını azaltır.\n\n3 - Dilbilgisel İlişkilerin Anlaşılması:\nLemmatization, kelimelerin dilbilgisel ilişkilerini anlamada yardımcı olur. Örneğin, \"yazdı\" kelimesinin lemması \"yaz\" olduğundan, bu kelimenin fiil olduğu ve geçmiş zamanla ilişkili olduğu anlaşılır.",
      "metadata": {}
    },
    {
      "cell_type": "markdown",
      "source": "## Türkçe için Lemmatization\nTürkçe, eklemeli bir dil olduğu için lemmatization işlemi büyük önem taşır. Ancak, NLTK kütüphanesindeki WordNetLemmatizer gibi araçlar Türkçe için iyi çalışmaz. Bu nedenle, Türkçe lemmatization için özel kütüphaneler kullanılır:\n\nZeyrek Kütüphanesi:\nTürkçe için geliştirilmiş bir lemmatization aracıdır. Kelimeleri dilbilgisel kurallara uygun şekilde analiz eder ve doğru kökleri bulur.\n\n```\n#!pip install zeyrek\nimport zeyrek\nanalyzer = zeyrek.MorphAnalyzer()\nprint(analyzer.lemmatize('koşuyor'))  # Çıktı: [('koşuyor', ['koşmak'])]\n```\n\nZemberek Kütüphanesi:\nTürkçe NLP çalışmalarında sıkça kullanılan bir kütüphanedir. Hem stemming hem de lemmatization işlemlerini destekler.",
      "metadata": {}
    },
    {
      "cell_type": "markdown",
      "source": "## Lemmatization Örneği: Türkçe Metin İşleme",
      "metadata": {}
    },
    {
      "cell_type": "code",
      "source": "import zeyrek\nfrom nltk.corpus import stopwords\nfrom string import punctuation\nfrom nltk.tokenize import word_tokenize\n\n# metni ön işleme adımlarından geçirme\ndef preprocess_text(text):\n    mystopwords = set(stopwords.words(\"turkish\"))\n    \n    def remove_stops_digits(tokens):\n        return [token.lower() for token in tokens if token.lower() not in mystopwords and not token.isdigit() and token not in punctuation]\n    \n    return remove_stops_digits(word_tokenize(text))\n\n# lemmatization işlemi\ndef lemma_words(words):\n    lemmatizer = zeyrek.MorphAnalyzer()\n    return [lemmatizer.lemmatize(word)[0] for word in words]\n\n# metin\ntext = \"Nefretiniz elektriğe dönüştürülebilseydi bütün dünyayı aydınlatırdı.\"\n\n# Metni ön işleme ve lemmatization\nprocessed_text = preprocess_text(text)\nlemmatized_words = lemma_words(processed_text)\n\nprint(\"Ön işleme sonucu metin:\", processed_text)\nprint(\"Lemmatization ile kelime kökleri:\", lemmatized_words)",
      "metadata": {
        "trusted": true
      },
      "outputs": [],
      "execution_count": null
    },
    {
      "cell_type": "markdown",
      "source": "## İngilizce için Lemmatization Örneği",
      "metadata": {}
    },
    {
      "cell_type": "code",
      "source": "import nltk\nfrom nltk.stem import WordNetLemmatizer\nfrom nltk.corpus import wordnet\n\nnltk.download('wordnet')\n\nlemmatizer = WordNetLemmatizer()\nprint(lemmatizer.lemmatize('running', pos=wordnet.VERB)) \n\n# ingilizce metinler için de NLTK kütüphanesindeki WordNetLemmatizer kullanılabilir.",
      "metadata": {
        "trusted": true
      },
      "outputs": [],
      "execution_count": null
    },
    {
      "cell_type": "markdown",
      "source": "## Sonuç:\nLemmatization, metin analizi süreçlerinde kelimelerin anlamını koruyarak daha doğru ve tutarlı sonuçlar elde etmeyi sağlar. Özellikle Türkçe gibi eklemeli dillerde, doğru lemmatization araçlarının kullanılması büyük önem taşır. Zeyrek ve Zemberek gibi kütüphaneler, Türkçe metinlerin etkili bir şekilde işlenmesine olanak tanır.",
      "metadata": {}
    },
    {
      "cell_type": "code",
      "source": "",
      "metadata": {
        "trusted": true
      },
      "outputs": [],
      "execution_count": null
    }
  ]
}